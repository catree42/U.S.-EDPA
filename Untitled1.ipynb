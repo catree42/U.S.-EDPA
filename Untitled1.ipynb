{
  "nbformat": 4,
  "nbformat_minor": 0,
  "metadata": {
    "colab": {
      "provenance": [],
      "mount_file_id": "14ZOAfSBuXuIOCYjNGJQMKzncrRkQW7EM",
      "authorship_tag": "ABX9TyMe9IkctSBHGHEmhvJCBUq8",
      "include_colab_link": true
    },
    "kernelspec": {
      "name": "python3",
      "display_name": "Python 3"
    },
    "language_info": {
      "name": "python"
    }
  },
  "cells": [
    {
      "cell_type": "markdown",
      "metadata": {
        "id": "view-in-github",
        "colab_type": "text"
      },
      "source": [
        "<a href=\"https://colab.research.google.com/github/catree42/U.S.EDAP/blob/main/Untitled1.ipynb\" target=\"_parent\"><img src=\"https://colab.research.google.com/assets/colab-badge.svg\" alt=\"Open In Colab\"/></a>"
      ]
    },
    {
      "cell_type": "code",
      "source": [
        "!git clone \"https://github.com/catree42/U.S.EDAP.git\""
      ],
      "metadata": {
        "colab": {
          "base_uri": "https://localhost:8080/"
        },
        "id": "bXQs5HlempB0",
        "outputId": "36f80d27-baa7-4ba7-d826-fa430124317e"
      },
      "execution_count": 1,
      "outputs": [
        {
          "output_type": "stream",
          "name": "stdout",
          "text": [
            "Cloning into 'U.S.EDAP'...\n",
            "remote: Enumerating objects: 51, done.\u001b[K\n",
            "remote: Counting objects: 100% (51/51), done.\u001b[K\n",
            "remote: Compressing objects: 100% (43/43), done.\u001b[K\n",
            "remote: Total 51 (delta 11), reused 0 (delta 0), pack-reused 0\u001b[K\n",
            "Receiving objects: 100% (51/51), 1.21 MiB | 2.40 MiB/s, done.\n",
            "Resolving deltas: 100% (11/11), done.\n"
          ]
        }
      ]
    },
    {
      "cell_type": "code",
      "execution_count": 3,
      "metadata": {
        "colab": {
          "base_uri": "https://localhost:8080/"
        },
        "id": "mGCStxwckf_e",
        "outputId": "07cc399b-f030-4820-99f7-2326980dc043"
      },
      "outputs": [
        {
          "output_type": "stream",
          "name": "stdout",
          "text": [
            "Writing /content/U.S.EDAP/CpiCrawler.py\n"
          ]
        }
      ],
      "source": [
        "%%writefile /content/U.S.EDAP/CpiCrawler.py\n",
        "\n",
        "import requests\n",
        "import json\n",
        "from tqdm.notebook import tqdm\n",
        "from datetime import datetime\n",
        "import pandas as pd\n",
        "\n",
        "class CpiCrawler :\n",
        "    def __init__(self) :\n",
        "        self.__url = 'https://sbcharts.investing.com/events_charts/us/733.json'\n",
        "\n",
        "    def crawl(self) :\n",
        "        resp = requests.get(self.__url)\n",
        "        dic = json.loads(resp.content)\n",
        "        infos = dic[\"attr\"]\n",
        "\n",
        "        timestampList = []\n",
        "        actualList = []\n",
        "        forecastList = []\n",
        "        revisedList = []\n",
        "\n",
        "\n",
        "        for info in infos :\n",
        "             timestampList.append(datetime.date(datetime.fromtimestamp(info[\"timestamp\"]/1000)))\n",
        "             actualList.append(info[\"actual\"])\n",
        "             forecastList.append(info[\"forecast\"])\n",
        "             revisedList.append(info[\"revised\"])\n",
        "\n",
        "        df = pd.DataFrame({\"date\":timestampList,\"실제\":actualList,\"예측\":forecastList,\"이전\":revisedList})\n",
        "\n",
        "        df.to_csv(\"CPI 물가지수.csv\", encoding='utf-8', index=False)\n",
        "\n",
        "        return df\n",
        "\n"
      ]
    }
  ]
}